{
 "cells": [
  {
   "cell_type": "markdown",
   "id": "3f15b4ef",
   "metadata": {},
   "source": [
    "\n",
    "# Week 2 Project – Heatwave Risk Analysis 🌡️🔥\n",
    "\n",
    "This notebook continues from **Week 1 Project**, focusing on:\n",
    "\n",
    "- **Exploratory Data Analysis (EDA)**\n",
    "- **Data Transformation**\n",
    "- **Feature Selection**\n",
    "\n",
    "Dataset: `heatwave_data.csv`  \n",
    "Final Output: Cleaned & transformed dataset `heatwave_processed.csv`\n"
   ]
  },
  {
   "cell_type": "code",
   "execution_count": null,
   "id": "4539835f",
   "metadata": {},
   "outputs": [],
   "source": [
    "\n",
    "# Importing required libraries\n",
    "import pandas as pd\n",
    "import numpy as np\n",
    "import matplotlib.pyplot as plt\n",
    "import seaborn as sns\n",
    "from sklearn.preprocessing import StandardScaler, MinMaxScaler, LabelEncoder\n",
    "from sklearn.feature_selection import SelectKBest, f_classif, chi2, RFE\n",
    "from sklearn.linear_model import LogisticRegression\n"
   ]
  },
  {
   "cell_type": "code",
   "execution_count": null,
   "id": "9fca3e1e",
   "metadata": {},
   "outputs": [],
   "source": [
    "\n",
    "# Load dataset\n",
    "df = pd.read_csv(\"heatwave_data.csv\")\n",
    "df.head()\n"
   ]
  },
  {
   "cell_type": "markdown",
   "id": "45d787dd",
   "metadata": {},
   "source": [
    "## Exploratory Data Analysis (EDA)"
   ]
  },
  {
   "cell_type": "code",
   "execution_count": null,
   "id": "83ad3d89",
   "metadata": {},
   "outputs": [],
   "source": [
    "\n",
    "# Dataset info\n",
    "df.info()\n",
    "\n",
    "# Statistical summary\n",
    "df.describe()\n"
   ]
  },
  {
   "cell_type": "code",
   "execution_count": null,
   "id": "ab002149",
   "metadata": {},
   "outputs": [],
   "source": [
    "\n",
    "# Missing values check\n",
    "df.isnull().sum()\n"
   ]
  },
  {
   "cell_type": "code",
   "execution_count": null,
   "id": "7cbceb11",
   "metadata": {},
   "outputs": [],
   "source": [
    "\n",
    "# Correlation heatmap\n",
    "plt.figure(figsize=(10,6))\n",
    "sns.heatmap(df.corr(), annot=True, cmap=\"coolwarm\")\n",
    "plt.title(\"Correlation Heatmap\")\n",
    "plt.show()\n"
   ]
  },
  {
   "cell_type": "code",
   "execution_count": null,
   "id": "6d493704",
   "metadata": {},
   "outputs": [],
   "source": [
    "\n",
    "# Distribution plots for numerical features\n",
    "df.hist(bins=30, figsize=(12,8))\n",
    "plt.show()\n"
   ]
  },
  {
   "cell_type": "code",
   "execution_count": null,
   "id": "3cc6ffe0",
   "metadata": {},
   "outputs": [],
   "source": [
    "\n",
    "# Outlier detection using boxplots\n",
    "plt.figure(figsize=(12,6))\n",
    "sns.boxplot(data=df)\n",
    "plt.xticks(rotation=90)\n",
    "plt.title(\"Outlier Detection\")\n",
    "plt.show()\n"
   ]
  },
  {
   "cell_type": "markdown",
   "id": "62f93cd3",
   "metadata": {},
   "source": [
    "## Data Transformation"
   ]
  },
  {
   "cell_type": "code",
   "execution_count": null,
   "id": "184c1fdb",
   "metadata": {},
   "outputs": [],
   "source": [
    "\n",
    "# Fill missing values (mean for numeric, mode for categorical)\n",
    "for col in df.columns:\n",
    "    if df[col].dtype == \"object\":\n",
    "        df[col].fillna(df[col].mode()[0], inplace=True)\n",
    "    else:\n",
    "        df[col].fillna(df[col].mean(), inplace=True)\n"
   ]
  },
  {
   "cell_type": "code",
   "execution_count": null,
   "id": "6cad515e",
   "metadata": {},
   "outputs": [],
   "source": [
    "\n",
    "# Encoding categorical variables\n",
    "le = LabelEncoder()\n",
    "for col in df.select_dtypes(include=\"object\").columns:\n",
    "    df[col] = le.fit_transform(df[col])\n"
   ]
  },
  {
   "cell_type": "code",
   "execution_count": null,
   "id": "4c19b616",
   "metadata": {},
   "outputs": [],
   "source": [
    "\n",
    "# Scaling numeric data\n",
    "scaler = StandardScaler()\n",
    "df_scaled = pd.DataFrame(scaler.fit_transform(df), columns=df.columns)\n",
    "df_scaled.head()\n"
   ]
  },
  {
   "cell_type": "markdown",
   "id": "167b68ba",
   "metadata": {},
   "source": [
    "## Feature Engineering"
   ]
  },
  {
   "cell_type": "code",
   "execution_count": null,
   "id": "cf9ba83d",
   "metadata": {},
   "outputs": [],
   "source": [
    "\n",
    "# Example: Create Heat Index (Temp * Humidity)\n",
    "if \"Temperature\" in df.columns and \"Humidity\" in df.columns:\n",
    "    df_scaled[\"Heat_Index\"] = df_scaled[\"Temperature\"] * df_scaled[\"Humidity\"]\n",
    "df_scaled.head()\n"
   ]
  },
  {
   "cell_type": "markdown",
   "id": "bbd892d3",
   "metadata": {},
   "source": [
    "## Feature Selection"
   ]
  },
  {
   "cell_type": "code",
   "execution_count": null,
   "id": "94d632c7",
   "metadata": {},
   "outputs": [],
   "source": [
    "\n",
    "# Correlation-based feature selection (remove highly correlated features)\n",
    "corr_matrix = df_scaled.corr().abs()\n",
    "upper = corr_matrix.where(np.triu(np.ones(corr_matrix.shape), k=1).astype(bool))\n",
    "to_drop = [column for column in upper.columns if any(upper[column] > 0.9)]\n",
    "df_reduced = df_scaled.drop(to_drop, axis=1)\n",
    "print(\"Dropped features due to high correlation:\", to_drop)\n"
   ]
  },
  {
   "cell_type": "code",
   "execution_count": null,
   "id": "7f37c777",
   "metadata": {},
   "outputs": [],
   "source": [
    "\n",
    "# SelectKBest (ANOVA F-test)\n",
    "X = df_reduced.drop(df_reduced.columns[-1], axis=1)  # features\n",
    "y = df_reduced[df_reduced.columns[-1]]  # target (last column assumed)\n",
    "\n",
    "best_features = SelectKBest(score_func=f_classif, k=5)\n",
    "fit = best_features.fit(X, y)\n",
    "df_scores = pd.DataFrame({\"Feature\": X.columns, \"Score\": fit.scores_})\n",
    "df_scores.sort_values(by=\"Score\", ascending=False)\n"
   ]
  },
  {
   "cell_type": "code",
   "execution_count": null,
   "id": "ad730fb1",
   "metadata": {},
   "outputs": [],
   "source": [
    "\n",
    "# Recursive Feature Elimination (RFE)\n",
    "model = LogisticRegression(max_iter=500)\n",
    "rfe = RFE(model, n_features_to_select=5)\n",
    "fit = rfe.fit(X, y)\n",
    "selected_features = X.columns[fit.support_]\n",
    "selected_features\n"
   ]
  },
  {
   "cell_type": "code",
   "execution_count": null,
   "id": "3246b711",
   "metadata": {},
   "outputs": [],
   "source": [
    "\n",
    "# Final dataset with selected features\n",
    "df_final = df_reduced[selected_features]\n",
    "df_final[\"Target\"] = y\n",
    "\n",
    "# Save processed dataset\n",
    "df_final.to_csv(\"heatwave_processed.csv\", index=False)\n",
    "df_final.head()\n"
   ]
  },
  {
   "cell_type": "markdown",
   "id": "1d110301",
   "metadata": {},
   "source": [
    "\n",
    "## ✅ Conclusion\n",
    "- Performed **EDA** (summary, correlations, distributions, outliers).  \n",
    "- Applied **Data Transformation** (missing values, encoding, scaling).  \n",
    "- Conducted **Feature Selection** (correlation removal, SelectKBest, RFE).  \n",
    "- Saved cleaned dataset as **heatwave_processed.csv** for further modeling (Week 3).  \n"
   ]
  }
 ],
 "metadata": {},
 "nbformat": 4,
 "nbformat_minor": 5
}
